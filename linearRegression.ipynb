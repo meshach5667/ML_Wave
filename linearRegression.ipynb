{
 "cells": [
  {
   "cell_type": "markdown",
   "id": "8fe3c270-c34f-45ec-aad5-1b0f8031376e",
   "metadata": {
    "panel-layout": {
     "height": 51.140625,
     "visible": true,
     "width": 100
    }
   },
   "source": [
    "* Import dependent packages"
   ]
  },
  {
   "cell_type": "code",
   "execution_count": 3,
   "id": "2eb1c597-d649-45e2-a3f5-973cab7bbcb1",
   "metadata": {},
   "outputs": [],
   "source": [
    "from sklearn.linear_model import LinearRegression #import linear regression model\n",
    "import matplotlib.pyplot as plt #ploting library\n",
    "import numpy as np"
   ]
  },
  {
   "cell_type": "markdown",
   "id": "162a7851-c41b-4cbe-8157-7aa8eaf86d7f",
   "metadata": {
    "panel-layout": {
     "height": 51.140625,
     "visible": true,
     "width": 100
    }
   },
   "source": [
    "* Build and visualize a price housing dataset"
   ]
  },
  {
   "cell_type": "code",
   "execution_count": 5,
   "id": "07f83505-a14a-43c0-ad7e-02fcb2960608",
   "metadata": {
    "panel-layout": {
     "height": 701,
     "visible": true,
     "width": 100
    }
   },
   "outputs": [
    {
     "data": {
      "image/png": "[encoded data removed]",
      "text/plain": [
       "<Figure size 640x480 with 1 Axes>"
      ]
     },
     "metadata": {},
     "output_type": "display_data"
    }
   ],
   "source": [
    "x = np.array([121,125,131,141,152,161]).reshape(-1,1)# x denotes the house area as a feature\n",
    "y = np.array([300,350,425,405,496,517]) #y deenotes the house pricing\n",
    "plt.scatter(x,y)\n",
    "plt.xlabel(\"Area\") # area label\n",
    "plt.ylabel(\"Pricing\") # pricing label\n",
    "plt.show()"
   ]
  },
  {
   "cell_type": "markdown",
   "id": "31eb4cce-4aa0-4413-9b47-1063150ff206",
   "metadata": {
    "panel-layout": {
     "height": 51.140625,
     "visible": true,
     "width": 100
    }
   },
   "source": [
    "* Train model"
   ]
  },
  {
   "cell_type": "code",
   "execution_count": 6,
   "id": "67ea8385-fdec-423a-adc2-36725e98f995",
   "metadata": {
    "panel-layout": {
     "height": 770.078125,
     "visible": true,
     "width": 100
    }
   },
   "outputs": [
    {
     "data": {
      "text/html": [
       "<style>#sk-container-id-1 {\n",
       "  /* Definition of color scheme common for light and dark mode */\n",
       "  --sklearn-color-text: black;\n",
       "  --sklearn-color-line: gray;\n",
       "  /* Definition of color scheme for unfitted estimators */\n",
       "  --sklearn-color-unfitted-level-0: #fff5e6;\n",
       "  --sklearn-color-unfitted-level-1: #f6e4d2;\n",
       "  --sklearn-color-unfitted-level-2: #ffe0b3;\n",
       "  --sklearn-color-unfitted-level-3: chocolate;\n",
       "  /* Definition of color scheme for fitted estimators */\n",
       "  --sklearn-color-fitted-level-0: #f0f8ff;\n",
       "  --sklearn-color-fitted-level-1: #d4ebff;\n",
       "  --sklearn-color-fitted-level-2: #b3dbfd;\n",
       "  --sklearn-color-fitted-level-3: cornflowerblue;\n",
       "\n",
       "  /* Specific color for light theme */\n",
       "  --sklearn-color-text-on-default-background: var(--sg-text-color, var(--theme-code-foreground, var(--jp-content-font-color1, black)));\n",
       "  --sklearn-color-background: var(--sg-background-color, var(--theme-background, var(--jp-layout-color0, white)));\n",
       "  --sklearn-color-border-box: var(--sg-text-color, var(--theme-code-foreground, var(--jp-content-font-color1, black)));\n",
       "  --sklearn-color-icon: #696969;\n",
       "\n",
       "  @media (prefers-color-scheme: dark) {\n",
       "    /* Redefinition of color scheme for dark theme */\n",
       "    --sklearn-color-text-on-default-background: var(--sg-text-color, var(--theme-code-foreground, var(--jp-content-font-color1, white)));\n",
       "    --sklearn-color-background: var(--sg-background-color, var(--theme-background, var(--jp-layout-color0, #111)));\n",
       "    --sklearn-color-border-box: var(--sg-text-color, var(--theme-code-foreground, var(--jp-content-font-color1, white)));\n",
       "    --sklearn-color-icon: #878787;\n",
       "  }\n",
       "}\n",
       "\n",
       "#sk-container-id-1 {\n",
       "  color: var(--sklearn-color-text);\n",
       "}\n",
       "\n",
       "#sk-container-id-1 pre {\n",
       "  padding: 0;\n",
       "}\n",
       "\n",
       "#sk-container-id-1 input.sk-hidden--visually {\n",
       "  border: 0;\n",
       "  clip: rect(1px 1px 1px 1px);\n",
       "  clip: rect(1px, 1px, 1px, 1px);\n",
       "  height: 1px;\n",
       "  margin: -1px;\n",
       "  overflow: hidden;\n",
       "  padding: 0;\n",
       "  position: absolute;\n",
       "  width: 1px;\n",
       "}\n",
       "\n",
       "#sk-container-id-1 div.sk-dashed-wrapped {\n",
       "  border: 1px dashed var(--sklearn-color-line);\n",
       "  margin: 0 0.4em 0.5em 0.4em;\n",
       "  box-sizing: border-box;\n",
       "  padding-bottom: 0.4em;\n",
       "  background-color: var(--sklearn-color-background);\n",
       "}\n",
       "\n",
       "#sk-container-id-1 div.sk-container {\n",
       "  /* jupyter's `normalize.less` sets `[hidden] { display: none; }`\n",
       "     but bootstrap.min.css set `[hidden] { display: none !important; }`\n",
       "     so we also need the `!important` here to be able to override the\n",
       "     default hidden behavior on the sphinx rendered scikit-learn.org.\n",
       "     See: https://github.com/scikit-learn/scikit-learn/issues/21755 */\n",
       "  display: inline-block !important;\n",
       "  position: relative;\n",
       "}\n",
       "\n",
       "#sk-container-id-1 div.sk-text-repr-fallback {\n",
       "  display: none;\n",
       "}\n",
       "\n",
       "div.sk-parallel-item,\n",
       "div.sk-serial,\n",
       "div.sk-item {\n",
       "  /* draw centered vertical line to link estimators */\n",
       "  background-image: linear-gradient(var(--sklearn-color-text-on-default-background), var(--sklearn-color-text-on-default-background));\n",
       "  background-size: 2px 100%;\n",
       "  background-repeat: no-repeat;\n",
       "  background-position: center center;\n",
       "}\n",
       "\n",
       "/* Parallel-specific style estimator block */\n",
       "\n",
       "#sk-container-id-1 div.sk-parallel-item::after {\n",
       "  content: \"\";\n",
       "  width: 100%;\n",
       "  border-bottom: 2px solid var(--sklearn-color-text-on-default-background);\n",
       "  flex-grow: 1;\n",
       "}\n",
       "\n",
       "#sk-container-id-1 div.sk-parallel {\n",
       "  display: flex;\n",
       "  align-items: stretch;\n",
       "  justify-content: center;\n",
       "  background-color: var(--sklearn-color-background);\n",
       "  position: relative;\n",
       "}\n",
       "\n",
       "#sk-container-id-1 div.sk-parallel-item {\n",
       "  display: flex;\n",
       "  flex-direction: column;\n",
       "}\n",
       "\n",
       "#sk-container-id-1 div.sk-parallel-item:first-child::after {\n",
       "  align-self: flex-end;\n",
       "  width: 50%;\n",
       "}\n",
       "\n",
       "#sk-container-id-1 div.sk-parallel-item:last-child::after {\n",
       "  align-self: flex-start;\n",
       "  width: 50%;\n",
       "}\n",
       "\n",
       "#sk-container-id-1 div.sk-parallel-item:only-child::after {\n",
       "  width: 0;\n",
       "}\n",
       "\n",
       "/* Serial-specific style estimator block */\n",
       "\n",
       "#sk-container-id-1 div.sk-serial {\n",
       "  display: flex;\n",
       "  flex-direction: column;\n",
       "  align-items: center;\n",
       "  background-color: var(--sklearn-color-background);\n",
       "  padding-right: 1em;\n",
       "  padding-left: 1em;\n",
       "}\n",
       "\n",
       "\n",
       "/* Toggleable style: style used for estimator/Pipeline/ColumnTransformer box that is\n",
       "clickable and can be expanded/collapsed.\n",
       "- Pipeline and ColumnTransformer use this feature and define the default style\n",
       "- Estimators will overwrite some part of the style using the `sk-estimator` class\n",
       "*/\n",
       "\n",
       "/* Pipeline and ColumnTransformer style (default) */\n",
       "\n",
       "#sk-container-id-1 div.sk-toggleable {\n",
       "  /* Default theme specific background. It is overwritten whether we have a\n",
       "  specific estimator or a Pipeline/ColumnTransformer */\n",
       "  background-color: var(--sklearn-color-background);\n",
       "}\n",
       "\n",
       "/* Toggleable label */\n",
       "#sk-container-id-1 label.sk-toggleable__label {\n",
       "  cursor: pointer;\n",
       "  display: block;\n",
       "  width: 100%;\n",
       "  margin-bottom: 0;\n",
       "  padding: 0.5em;\n",
       "  box-sizing: border-box;\n",
       "  text-align: center;\n",
       "}\n",
       "\n",
       "#sk-container-id-1 label.sk-toggleable__label-arrow:before {\n",
       "  /* Arrow on the left of the label */\n",
       "  content: \"▸\";\n",
       "  float: left;\n",
       "  margin-right: 0.25em;\n",
       "  color: var(--sklearn-color-icon);\n",
       "}\n",
       "\n",
       "#sk-container-id-1 label.sk-toggleable__label-arrow:hover:before {\n",
       "  color: var(--sklearn-color-text);\n",
       "}\n",
       "\n",
       "/* Toggleable content - dropdown */\n",
       "\n",
       "#sk-container-id-1 div.sk-toggleable__content {\n",
       "  max-height: 0;\n",
       "  max-width: 0;\n",
       "  overflow: hidden;\n",
       "  text-align: left;\n",
       "  /* unfitted */\n",
       "  background-color: var(--sklearn-color-unfitted-level-0);\n",
       "}\n",
       "\n",
       "#sk-container-id-1 div.sk-toggleable__content.fitted {\n",
       "  /* fitted */\n",
       "  background-color: var(--sklearn-color-fitted-level-0);\n",
       "}\n",
       "\n",
       "#sk-container-id-1 div.sk-toggleable__content pre {\n",
       "  margin: 0.2em;\n",
       "  border-radius: 0.25em;\n",
       "  color: var(--sklearn-color-text);\n",
       "  /* unfitted */\n",
       "  background-color: var(--sklearn-color-unfitted-level-0);\n",
       "}\n",
       "\n",
       "#sk-container-id-1 div.sk-toggleable__content.fitted pre {\n",
       "  /* unfitted */\n",
       "  background-color: var(--sklearn-color-fitted-level-0);\n",
       "}\n",
       "\n",
       "#sk-container-id-1 input.sk-toggleable__control:checked~div.sk-toggleable__content {\n",
       "  /* Expand drop-down */\n",
       "  max-height: 200px;\n",
       "  max-width: 100%;\n",
       "  overflow: auto;\n",
       "}\n",
       "\n",
       "#sk-container-id-1 input.sk-toggleable__control:checked~label.sk-toggleable__label-arrow:before {\n",
       "  content: \"▾\";\n",
       "}\n",
       "\n",
       "/* Pipeline/ColumnTransformer-specific style */\n",
       "\n",
       "#sk-container-id-1 div.sk-label input.sk-toggleable__control:checked~label.sk-toggleable__label {\n",
       "  color: var(--sklearn-color-text);\n",
       "  background-color: var(--sklearn-color-unfitted-level-2);\n",
       "}\n",
       "\n",
       "#sk-container-id-1 div.sk-label.fitted input.sk-toggleable__control:checked~label.sk-toggleable__label {\n",
       "  background-color: var(--sklearn-color-fitted-level-2);\n",
       "}\n",
       "\n",
       "/* Estimator-specific style */\n",
       "\n",
       "/* Colorize estimator box */\n",
       "#sk-container-id-1 div.sk-estimator input.sk-toggleable__control:checked~label.sk-toggleable__label {\n",
       "  /* unfitted */\n",
       "  background-color: var(--sklearn-color-unfitted-level-2);\n",
       "}\n",
       "\n",
       "#sk-container-id-1 div.sk-estimator.fitted input.sk-toggleable__control:checked~label.sk-toggleable__label {\n",
       "  /* fitted */\n",
       "  background-color: var(--sklearn-color-fitted-level-2);\n",
       "}\n",
       "\n",
       "#sk-container-id-1 div.sk-label label.sk-toggleable__label,\n",
       "#sk-container-id-1 div.sk-label label {\n",
       "  /* The background is the default theme color */\n",
       "  color: var(--sklearn-color-text-on-default-background);\n",
       "}\n",
       "\n",
       "/* On hover, darken the color of the background */\n",
       "#sk-container-id-1 div.sk-label:hover label.sk-toggleable__label {\n",
       "  color: var(--sklearn-color-text);\n",
       "  background-color: var(--sklearn-color-unfitted-level-2);\n",
       "}\n",
       "\n",
       "/* Label box, darken color on hover, fitted */\n",
       "#sk-container-id-1 div.sk-label.fitted:hover label.sk-toggleable__label.fitted {\n",
       "  color: var(--sklearn-color-text);\n",
       "  background-color: var(--sklearn-color-fitted-level-2);\n",
       "}\n",
       "\n",
       "/* Estimator label */\n",
       "\n",
       "#sk-container-id-1 div.sk-label label {\n",
       "  font-family: monospace;\n",
       "  font-weight: bold;\n",
       "  display: inline-block;\n",
       "  line-height: 1.2em;\n",
       "}\n",
       "\n",
       "#sk-container-id-1 div.sk-label-container {\n",
       "  text-align: center;\n",
       "}\n",
       "\n",
       "/* Estimator-specific */\n",
       "#sk-container-id-1 div.sk-estimator {\n",
       "  font-family: monospace;\n",
       "  border: 1px dotted var(--sklearn-color-border-box);\n",
       "  border-radius: 0.25em;\n",
       "  box-sizing: border-box;\n",
       "  margin-bottom: 0.5em;\n",
       "  /* unfitted */\n",
       "  background-color: var(--sklearn-color-unfitted-level-0);\n",
       "}\n",
       "\n",
       "#sk-container-id-1 div.sk-estimator.fitted {\n",
       "  /* fitted */\n",
       "  background-color: var(--sklearn-color-fitted-level-0);\n",
       "}\n",
       "\n",
       "/* on hover */\n",
       "#sk-container-id-1 div.sk-estimator:hover {\n",
       "  /* unfitted */\n",
       "  background-color: var(--sklearn-color-unfitted-level-2);\n",
       "}\n",
       "\n",
       "#sk-container-id-1 div.sk-estimator.fitted:hover {\n",
       "  /* fitted */\n",
       "  background-color: var(--sklearn-color-fitted-level-2);\n",
       "}\n",
       "\n",
       "/* Specification for estimator info (e.g. \"i\" and \"?\") */\n",
       "\n",
       "/* Common style for \"i\" and \"?\" */\n",
       "\n",
       ".sk-estimator-doc-link,\n",
       "a:link.sk-estimator-doc-link,\n",
       "a:visited.sk-estimator-doc-link {\n",
       "  float: right;\n",
       "  font-size: smaller;\n",
       "  line-height: 1em;\n",
       "  font-family: monospace;\n",
       "  background-color: var(--sklearn-color-background);\n",
       "  border-radius: 1em;\n",
       "  height: 1em;\n",
       "  width: 1em;\n",
       "  text-decoration: none !important;\n",
       "  margin-left: 1ex;\n",
       "  /* unfitted */\n",
       "  border: var(--sklearn-color-unfitted-level-1) 1pt solid;\n",
       "  color: var(--sklearn-color-unfitted-level-1);\n",
       "}\n",
       "\n",
       ".sk-estimator-doc-link.fitted,\n",
       "a:link.sk-estimator-doc-link.fitted,\n",
       "a:visited.sk-estimator-doc-link.fitted {\n",
       "  /* fitted */\n",
       "  border: var(--sklearn-color-fitted-level-1) 1pt solid;\n",
       "  color: var(--sklearn-color-fitted-level-1);\n",
       "}\n",
       "\n",
       "/* On hover */\n",
       "div.sk-estimator:hover .sk-estimator-doc-link:hover,\n",
       ".sk-estimator-doc-link:hover,\n",
       "div.sk-label-container:hover .sk-estimator-doc-link:hover,\n",
       ".sk-estimator-doc-link:hover {\n",
       "  /* unfitted */\n",
       "  background-color: var(--sklearn-color-unfitted-level-3);\n",
       "  color: var(--sklearn-color-background);\n",
       "  text-decoration: none;\n",
       "}\n",
       "\n",
       "div.sk-estimator.fitted:hover .sk-estimator-doc-link.fitted:hover,\n",
       ".sk-estimator-doc-link.fitted:hover,\n",
       "div.sk-label-container:hover .sk-estimator-doc-link.fitted:hover,\n",
       ".sk-estimator-doc-link.fitted:hover {\n",
       "  /* fitted */\n",
       "  background-color: var(--sklearn-color-fitted-level-3);\n",
       "  color: var(--sklearn-color-background);\n",
       "  text-decoration: none;\n",
       "}\n",
       "\n",
       "/* Span, style for the box shown on hovering the info icon */\n",
       ".sk-estimator-doc-link span {\n",
       "  display: none;\n",
       "  z-index: 9999;\n",
       "  position: relative;\n",
       "  font-weight: normal;\n",
       "  right: .2ex;\n",
       "  padding: .5ex;\n",
       "  margin: .5ex;\n",
       "  width: min-content;\n",
       "  min-width: 20ex;\n",
       "  max-width: 50ex;\n",
       "  color: var(--sklearn-color-text);\n",
       "  box-shadow: 2pt 2pt 4pt #999;\n",
       "  /* unfitted */\n",
       "  background: var(--sklearn-color-unfitted-level-0);\n",
       "  border: .5pt solid var(--sklearn-color-unfitted-level-3);\n",
       "}\n",
       "\n",
       ".sk-estimator-doc-link.fitted span {\n",
       "  /* fitted */\n",
       "  background: var(--sklearn-color-fitted-level-0);\n",
       "  border: var(--sklearn-color-fitted-level-3);\n",
       "}\n",
       "\n",
       ".sk-estimator-doc-link:hover span {\n",
       "  display: block;\n",
       "}\n",
       "\n",
       "/* \"?\"-specific style due to the `<a>` HTML tag */\n",
       "\n",
       "#sk-container-id-1 a.estimator_doc_link {\n",
       "  float: right;\n",
       "  font-size: 1rem;\n",
       "  line-height: 1em;\n",
       "  font-family: monospace;\n",
       "  background-color: var(--sklearn-color-background);\n",
       "  border-radius: 1rem;\n",
       "  height: 1rem;\n",
       "  width: 1rem;\n",
       "  text-decoration: none;\n",
       "  /* unfitted */\n",
       "  color: var(--sklearn-color-unfitted-level-1);\n",
       "  border: var(--sklearn-color-unfitted-level-1) 1pt solid;\n",
       "}\n",
       "\n",
       "#sk-container-id-1 a.estimator_doc_link.fitted {\n",
       "  /* fitted */\n",
       "  border: var(--sklearn-color-fitted-level-1) 1pt solid;\n",
       "  color: var(--sklearn-color-fitted-level-1);\n",
       "}\n",
       "\n",
       "/* On hover */\n",
       "#sk-container-id-1 a.estimator_doc_link:hover {\n",
       "  /* unfitted */\n",
       "  background-color: var(--sklearn-color-unfitted-level-3);\n",
       "  color: var(--sklearn-color-background);\n",
       "  text-decoration: none;\n",
       "}\n",
       "\n",
       "#sk-container-id-1 a.estimator_doc_link.fitted:hover {\n",
       "  /* fitted */\n",
       "  background-color: var(--sklearn-color-fitted-level-3);\n",
       "}\n",
       "</style><div id=\"sk-container-id-1\" class=\"sk-top-container\"><div class=\"sk-text-repr-fallback\"><pre>LinearRegression()</pre><b>In a Jupyter environment, please rerun this cell to show the HTML representation or trust the notebook. <br />On GitHub, the HTML representation is unable to render, please try loading this page with nbviewer.org.</b></div><div class=\"sk-container\" hidden><div class=\"sk-item\"><div class=\"sk-estimator fitted sk-toggleable\"><input class=\"sk-toggleable__control sk-hidden--visually\" id=\"sk-estimator-id-1\" type=\"checkbox\" checked><label for=\"sk-estimator-id-1\" class=\"sk-toggleable__label fitted sk-toggleable__label-arrow fitted\">&nbsp;&nbsp;LinearRegression<a class=\"sk-estimator-doc-link fitted\" rel=\"noreferrer\" target=\"_blank\" href=\"https://scikit-learn.org/1.5/modules/generated/sklearn.linear_model.LinearRegression.html\">?<span>Documentation for LinearRegression</span></a><span class=\"sk-estimator-doc-link fitted\">i<span>Fitted</span></span></label><div class=\"sk-toggleable__content fitted\"><pre>LinearRegression()</pre></div> </div></div></div></div>"
      ],
      "text/plain": [
       "LinearRegression()"
      ]
     },
     "execution_count": 6,
     "metadata": {},
     "output_type": "execute_result"
    }
   ],
   "source": [
    "lr = LinearRegression() #eencapsulate the linear regression model into an object\n",
    "lr.fit(x,y) #train the model on the dataset\n"
   ]
  },
  {
   "cell_type": "markdown",
   "id": "018a2638-4f8b-4122-8468-91d81a8666c1",
   "metadata": {
    "panel-layout": {
     "height": 51.140625,
     "visible": true,
     "width": 100
    }
   },
   "source": [
    "* Visualize the model"
   ]
  },
  {
   "cell_type": "code",
   "execution_count": 7,
   "id": "3da6449d-233d-479b-80bb-c16e3771233e",
   "metadata": {
    "panel-layout": {
     "height": 701,
     "visible": true,
     "width": 100
    }
   },
   "outputs": [
    {
     "name": "stdout",
     "output_type": "stream",
     "text": [
      "slope: [4.98467124]\n",
      "intercept -274.8769665187576\n"
     ]
    }
   ],
   "source": [
    "w = lr.coef_ #slope thee model\n",
    "b = lr.intercept_ #intercept the model\n",
    "print('slope:', w)\n",
    "print('intercept', b)"
   ]
  },
  {
   "cell_type": "code",
   "execution_count": 9,
   "id": "a5cbdaf9-5ba0-4384-97c0-d2a3d538cd8a",
   "metadata": {
    "panel-layout": {
     "height": 728.140625,
     "visible": true,
     "width": 100
    }
   },
   "outputs": [
    {
     "data": {
      "text/plain": [
       "[<matplotlib.lines.Line2D at 0x122f76030>]"
      ]
     },
     "execution_count": 9,
     "metadata": {},
     "output_type": "execute_result"
    },
    {
     "data": {
      "image/png": "[encoded data removed]",
      "text/plain": [
       "<Figure size 640x480 with 1 Axes>"
      ]
     },
     "metadata": {},
     "output_type": "display_data"
    }
   ],
   "source": [
    "plt.scatter(x,y)\n",
    "plt.xlabel(\"Area\")\n",
    "plt.ylabel(\"Pricing\")\n",
    "plt.plot([x[0],x[-1]],[x[0]*w+b,x[-1]*w+b])"
   ]
  },
  {
   "cell_type": "markdown",
   "id": "de3dceb1-3bd1-4325-a363-b4a3953013b9",
   "metadata": {
    "panel-layout": {
     "height": 51.140625,
     "visible": true,
     "width": 100
    }
   },
   "source": [
    "* Start a prediction task using the model"
   ]
  },
  {
   "cell_type": "code",
   "execution_count": 10,
   "id": "604606fe-0048-4294-84ff-270ec609eae5",
   "metadata": {
    "panel-layout": {
     "height": 769.140625,
     "visible": true,
     "width": 100
    }
   },
   "outputs": [
    {
     "name": "stdout",
     "output_type": "stream",
     "text": [
      "The history saving thread hit an unexpected error (OperationalError('attempt to write a readonly database')).History will not be written to the database.\n"
     ]
    },
    {
     "data": {
      "text/plain": [
       "array([373.13029447])"
      ]
     },
     "execution_count": 10,
     "metadata": {},
     "output_type": "execute_result"
    }
   ],
   "source": [
    "testx  = np.array([[130]]) # a test sample with the area 130\n",
    "lr.predict(testx)"
   ]
  },
  {
   "cell_type": "code",
   "execution_count": 14,
   "id": "ce787fde-cc5f-4629-9153-d9f554b7cf94",
   "metadata": {
    "panel-layout": {
     "height": 769.140625,
     "visible": true,
     "width": 100
    }
   },
   "outputs": [
    {
     "data": {
      "text/plain": [
       "array([328.26825333])"
      ]
     },
     "execution_count": 14,
     "metadata": {},
     "output_type": "execute_result"
    }
   ],
   "source": [
    "testx = np.array([[121]])\n",
    "lr.predict(testx)"
   ]
  },
  {
   "cell_type": "markdown",
   "id": "a6d9ca7e-674c-4444-9dbe-7ded6b6adbf7",
   "metadata": {
    "panel-layout": {
     "height": 50.8203125,
     "visible": true,
     "width": 100
    }
   },
   "source": [
    "## Linear regression Implementation(expansion)"
   ]
  },
  {
   "cell_type": "markdown",
   "id": "7ebe109a-68b8-45e7-8daf-4090f00327c4",
   "metadata": {
    "panel-layout": {
     "height": 51.140625,
     "visible": true,
     "width": 100
    }
   },
   "source": [
    "* Import dependencies"
   ]
  },
  {
   "cell_type": "code",
   "execution_count": 16,
   "id": "66be6654-18d9-46ac-b73d-933e590c033c",
   "metadata": {},
   "outputs": [],
   "source": [
    "import numpy as np\n",
    "import matplotlib.pyplot as plt"
   ]
  },
  {
   "cell_type": "markdown",
   "id": "4e81450d-d12a-4cfa-a1ca-380366e1b6f3",
   "metadata": {
    "panel-layout": {
     "height": 51.140625,
     "visible": true,
     "width": 100
    }
   },
   "source": [
    "* Define the function for calculating gradient"
   ]
  },
  {
   "cell_type": "code",
   "execution_count": 17,
   "id": "245469ff-26f8-4413-b1d8-284065c8e4c1",
   "metadata": {},
   "outputs": [],
   "source": [
    "def generate_gradient(x, theta, y):\n",
    "    sample_count = X.shape[0]\n",
    "    #calculatee the gradient based on the matrix 1/m \n",
    "    return (1./sample_count)*X.T.dot(X.dot(theta)-y)"
   ]
  },
  {
   "cell_type": "markdown",
   "id": "69a552a3-54bf-4e8d-af89-ba17f26b2ac1",
   "metadata": {
    "panel-layout": {
     "height": 51.140625,
     "visible": true,
     "width": 100
    }
   },
   "source": [
    "* function for readind datasets"
   ]
  },
  {
   "cell_type": "code",
   "execution_count": 18,
   "id": "81c7e57d-7399-4b65-a674-b14113b4e260",
   "metadata": {},
   "outputs": [],
   "source": [
    "def get_training_data(file_path):\n",
    "    orig_data = np.loadtxt(file_path,skiprows=1) #ignoree the tittle in thee row of the dataset\n",
    "    cols = orig_data.shape[1]\n",
    "    return (orig_data, orig_data[:, :cols -1], orig_data[:, cols-1:])"
   ]
  },
  {
   "cell_type": "markdown",
   "id": "6bc46fc0-c5d4-4956-979d-ce5e959a2fb8",
   "metadata": {
    "panel-layout": {
     "height": 51.140625,
     "visible": true,
     "width": 100
    }
   },
   "source": [
    "* Define the function for initializing parameters "
   ]
  },
  {
   "cell_type": "code",
   "execution_count": 20,
   "id": "1627f879-5ce5-4e64-ac2e-4d595a34992b",
   "metadata": {},
   "outputs": [],
   "source": [
    "#initialize thee 0 array \n",
    "def init_theta(feature_count):\n",
    "    return np.ones(feature_count).reshape(feature_count, 1)"
   ]
  },
  {
   "cell_type": "markdown",
   "id": "5945a8ec-88c4-442c-be14-c096547f7682",
   "metadata": {
    "panel-layout": {
     "height": 51.140625,
     "visible": true,
     "width": 100
    }
   },
   "source": [
    "* Define the function for impementing dradient and descent "
   ]
  },
  {
   "cell_type": "code",
   "execution_count": 17,
   "id": "4ca3a828-7281-472b-a558-5834e8e0513d",
   "metadata": {},
   "outputs": [],
   "source": [
    "def gradient_descending(X, y, theta, alpha):\n",
    "    Jthetas= []    # Record the change trend of the cost function J(θ) to confirm the gradient descent is correct.\n",
    "    # Calculate the loss function, which is equal to the square of the difference between the actual value and the predicted value: (y^i-h(x^i))^2\n",
    "    Jtheta = (X.dot(theta)-y).T.dot(X.dot(theta)-y)\n",
    "    index = 0\n",
    "    \n",
    "    gradient = generate_gradient(X, theta, y) # Calculate the gradient.\n",
    "    while not np.all(np.absolute(gradient) <= 1e-5):   # End the calculation when the gradient is less than 0.00001.\n",
    "        \n",
    "        theta = theta - alpha * gradient\n",
    "        gradient = generate_gradient(X, theta, y) # Calculate the new gradient.\n",
    "        \n",
    "        # Calculate the loss function, which is equal to the square of the difference between the actual value and the predicted value: (y^i-h(x^i))^2\n",
    "        Jtheta = (X.dot(theta)-y).T.dot(X.dot(theta)-y)\n",
    "        if (index+1) % 10 == 0:\n",
    "            \n",
    "            Jthetas.append((index, Jtheta[0]))   # Record the result every 10 calculations.\n",
    "            \n",
    "        index += 1\n",
    "    \n",
    "    return theta,Jthetas\n"
   ]
  },
  {
   "cell_type": "markdown",
   "id": "1e1ddb2d-c122-4a2a-9abe-f023ba2f1faa",
   "metadata": {},
   "source": [
    "* Define the function for visualizingg the change curve of the loss function\n"
   ]
  },
  {
   "cell_type": "code",
   "execution_count": 24,
   "id": "613fc14a-ae24-4439-b8c3-fb74634b2175",
   "metadata": {},
   "outputs": [],
   "source": [
    "# Plot the loss function channge curve\n",
    "def showJThetha(diff_value):\n",
    "    p_x = []\n",
    "    p_y = []\n",
    "    for(index, sum) in diff_value:\n",
    "        p_x.append(index)\n",
    "        p_y.append(sum)\n",
    "    plt.plot(p_X, p_y, color='b')\n",
    "    plt.xlabel(\"steps\")\n",
    "    plt.ylabel(\"loss function\")\n",
    "    plt.title(\"step - loss function curve\")\n",
    "    plt.show()\n",
    "        "
   ]
  },
  {
   "cell_type": "markdown",
   "id": "37c170dd-59cc-4c12-803f-006a2b06740e",
   "metadata": {},
   "source": []
  },
  {
   "cell_type": "code",
   "execution_count": 36,
   "id": "5bc8b4b0-57cf-4474-acdc-e520b5a6a72b",
   "metadata": {},
   "outputs": [],
   "source": [
    "# Plot the actual data points and fited curve.\n",
    "def showlinnearcurve(theta, sample_training_set):\n",
    "    x,y = sample_training_set[:, 1], sample_training_set[:, 2]\n",
    "    z = theta[0] + theta[1]* x\n",
    "    plt.scatter(x,y, color='b', maker='x', label = \"sample data\")\n",
    "    plt.plott(x,z,'r', color = \"r\", label=\"regression curve\")\n",
    "    plt.xlabel(\"X\")\n",
    "    plt.ylabel(\"y\")\n",
    "    plt.title(\"Linear regression curve\")\n",
    "    plt.legend()\n",
    "    plt.show()\n",
    "    "
   ]
  },
  {
   "cell_type": "markdown",
   "id": "e64180e8-cae3-491b-b10f-b7e97bc4267c",
   "metadata": {},
   "source": [
    "* Plot the final result"
   ]
  },
  {
   "cell_type": "code",
   "execution_count": 46,
   "id": "b2b39337-fd39-49d9-8d18-674a4447fce8",
   "metadata": {},
   "outputs": [
    {
     "ename": "NameError",
     "evalue": "name 'get_training_data' is not defined",
     "output_type": "error",
     "traceback": [
      "\u001b[0;31m---------------------------------------------------------------------------\u001b[0m",
      "\u001b[0;31mNameError\u001b[0m                                 Traceback (most recent call last)",
      "Cell \u001b[0;32mIn[46], line 2\u001b[0m\n\u001b[1;32m      1\u001b[0m \u001b[38;5;66;03m# Read dataset\u001b[39;00m\n\u001b[0;32m----> 2\u001b[0m training_data_include_y, training_x_y \u001b[38;5;241m=\u001b[39m get_training_data(\u001b[38;5;124m\"\u001b[39m\u001b[38;5;124m/Users/mac/practice/MachineLearning/ML/02/lr2_data.txt\u001b[39m\u001b[38;5;124m\"\u001b[39m)\n\u001b[1;32m      3\u001b[0m \u001b[38;5;66;03m#Obtain numbers annd samples and feeatures respectiveely.\u001b[39;00m\n\u001b[1;32m      4\u001b[0m sample_count, feature_count \u001b[38;5;241m=\u001b[39m training_x\u001b[38;5;241m.\u001b[39mshape\n",
      "\u001b[0;31mNameError\u001b[0m: name 'get_training_data' is not defined"
     ]
    }
   ],
   "source": [
    "# Read dataset\n",
    "training_data_include_y, training_x_y = get_training_data(\"/Users/mac/practice/MachineLearning/ML/02/lr2_data.txt\")\n",
    "#Obtain numbers annd samples and feeatures respectiveely.\n",
    "sample_count, feature_count = training_x.shape\n",
    "#Define the learning step \n",
    "alpha =0.01\n",
    "#initialize 0\n",
    "theta = init_theta(feature_count)\n",
    "#obtain the finnal parameter 0 and cost \n",
    "result_theta, Jthetas = gradient_descending(training_x,y,theta, alpha)\n",
    "#Display the parameter\n",
    "print(\"w:{}\".format(result_theta[0][0]),\"b:{}\".format(result_theta[0][1]))\n",
    "showJTheta(Jthetas)\n",
    "showlinearcurve(result_theta, training_data_include_y)\n"
   ]
  },
  {
   "cell_type": "code",
   "execution_count": null,
   "id": "f14339d2-7e9f-446f-a545-46a81af18495",
   "metadata": {},
   "outputs": [],
   "source": []
  },
  {
   "cell_type": "code",
   "execution_count": null,
   "id": "e11968ee-dcbb-46d0-8a4a-c191ddb9ce25",
   "metadata": {},
   "outputs": [],
   "source": []
  }
 ],
 "metadata": {
  "kernelspec": {
   "display_name": "Python [conda env:base] *",
   "language": "python",
   "name": "conda-base-py"
  },
  "language_info": {
   "codemirror_mode": {
    "name": "ipython",
    "version": 3
   },
   "file_extension": ".py",
   "mimetype": "text/x-python",
   "name": "python",
   "nbconvert_exporter": "python",
   "pygments_lexer": "ipython3",
   "version": "3.12.7"
  },
  "panel-cell-order": [
   "8fe3c270-c34f-45ec-aad5-1b0f8031376e",
   "162a7851-c41b-4cbe-8157-7aa8eaf86d7f",
   "07f83505-a14a-43c0-ad7e-02fcb2960608",
   "31eb4cce-4aa0-4413-9b47-1063150ff206",
   "67ea8385-fdec-423a-adc2-36725e98f995",
   "018a2638-4f8b-4122-8468-91d81a8666c1",
   "3da6449d-233d-479b-80bb-c16e3771233e",
   "a5cbdaf9-5ba0-4384-97c0-d2a3d538cd8a",
   "de3dceb1-3bd1-4325-a363-b4a3953013b9",
   "604606fe-0048-4294-84ff-270ec609eae5",
   "ce787fde-cc5f-4629-9153-d9f554b7cf94",
   "a6d9ca7e-674c-4444-9dbe-7ded6b6adbf7",
   "7ebe109a-68b8-45e7-8daf-4090f00327c4",
   "4e81450d-d12a-4cfa-a1ca-380366e1b6f3",
   "69a552a3-54bf-4e8d-af89-ba17f26b2ac1",
   "6bc46fc0-c5d4-4956-979d-ce5e959a2fb8",
   "5945a8ec-88c4-442c-be14-c096547f7682"
  ]
 },
 "nbformat": 4,
 "nbformat_minor": 5
}

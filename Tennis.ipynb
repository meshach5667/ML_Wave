{
 "cells": [
  {
   "cell_type": "code",
   "execution_count": 1,
   "id": "55d32b3c-28c5-49b5-a3d3-9d8fb6345b56",
   "metadata": {},
   "outputs": [],
   "source": [
    "import pandas as pd\n",
    "import numpy as np\n",
    "import matplotlib.pyplot as plt\n"
   ]
  },
  {
   "cell_type": "code",
   "execution_count": 3,
   "id": "dbf07405-3ebf-47fc-9acb-5d0ba757cfe7",
   "metadata": {},
   "outputs": [],
   "source": [
    "df = pd.read_csv(\"tennis.txt\")"
   ]
  },
  {
   "cell_type": "code",
   "execution_count": 5,
   "id": "28fea5da-64de-4986-a188-a12033080be4",
   "metadata": {},
   "outputs": [
    {
     "data": {
      "text/html": [
       "<div>\n",
       "<style scoped>\n",
       "    .dataframe tbody tr th:only-of-type {\n",
       "        vertical-align: middle;\n",
       "    }\n",
       "\n",
       "    .dataframe tbody tr th {\n",
       "        vertical-align: top;\n",
       "    }\n",
       "\n",
       "    .dataframe thead th {\n",
       "        text-align: right;\n",
       "    }\n",
       "</style>\n",
       "<table border=\"1\" class=\"dataframe\">\n",
       "  <thead>\n",
       "    <tr style=\"text-align: right;\">\n",
       "      <th></th>\n",
       "      <th>sunny\\thot\\thigh\\tweak\\tN</th>\n",
       "    </tr>\n",
       "  </thead>\n",
       "  <tbody>\n",
       "    <tr>\n",
       "      <th>0</th>\n",
       "      <td>sunny\\thot\\thigh\\tstrong\\tN</td>\n",
       "    </tr>\n",
       "    <tr>\n",
       "      <th>1</th>\n",
       "      <td>cloudy\\thot\\thigh\\tweak\\tY</td>\n",
       "    </tr>\n",
       "    <tr>\n",
       "      <th>2</th>\n",
       "      <td>rain\\tmoderate\\thigh\\tweak\\tY</td>\n",
       "    </tr>\n",
       "    <tr>\n",
       "      <th>3</th>\n",
       "      <td>rain\\tcold\\tnormal\\tweak\\tY</td>\n",
       "    </tr>\n",
       "    <tr>\n",
       "      <th>4</th>\n",
       "      <td>rain\\tcold\\tnormal\\tstrong\\tN</td>\n",
       "    </tr>\n",
       "  </tbody>\n",
       "</table>\n",
       "</div>"
      ],
      "text/plain": [
       "       sunny\\thot\\thigh\\tweak\\tN\n",
       "0    sunny\\thot\\thigh\\tstrong\\tN\n",
       "1     cloudy\\thot\\thigh\\tweak\\tY\n",
       "2  rain\\tmoderate\\thigh\\tweak\\tY\n",
       "3    rain\\tcold\\tnormal\\tweak\\tY\n",
       "4  rain\\tcold\\tnormal\\tstrong\\tN"
      ]
     },
     "execution_count": 5,
     "metadata": {},
     "output_type": "execute_result"
    }
   ],
   "source": [
    "df.head()"
   ]
  },
  {
   "cell_type": "code",
   "execution_count": null,
   "id": "4d94b9f6-c033-4514-bae1-8e1dc2ae680c",
   "metadata": {},
   "outputs": [],
   "source": []
  }
 ],
 "metadata": {
  "kernelspec": {
   "display_name": "Python [conda env:base] *",
   "language": "python",
   "name": "conda-base-py"
  },
  "language_info": {
   "codemirror_mode": {
    "name": "ipython",
    "version": 3
   },
   "file_extension": ".py",
   "mimetype": "text/x-python",
   "name": "python",
   "nbconvert_exporter": "python",
   "pygments_lexer": "ipython3",
   "version": "3.12.7"
  }
 },
 "nbformat": 4,
 "nbformat_minor": 5
}
